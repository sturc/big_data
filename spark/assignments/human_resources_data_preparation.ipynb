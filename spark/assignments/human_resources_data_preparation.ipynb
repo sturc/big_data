{
 "cells": [
  {
   "cell_type": "markdown",
   "metadata": {},
   "source": [
    "# Human Resources Dataset\n",
    "\n",
    "The original file can be found here <https://www.kaggle.com/rhuebner/human-resources-data-set>\n",
    "\n",
    "Description can be found here <https://rpubs.com/rhuebner/hrd_cb_v14>"
   ]
  },
  {
   "cell_type": "code",
   "execution_count": null,
   "metadata": {},
   "outputs": [],
   "source": [
    "import sys\n",
    "sys.path.append(\"..\")\n",
    "from pyspark.ml.feature import StringIndexer, VectorAssembler\n",
    "from pyspark.sql.functions import expr, unix_timestamp, col\n",
    "from pyspark.sql.session import SparkSession\n",
    "from helpers.path_translation import translate_to_file_string\n",
    "from helpers.data_prep_and_print import print_df\n"
   ]
  },
  {
   "cell_type": "code",
   "execution_count": null,
   "metadata": {},
   "outputs": [],
   "source": [
    "input_file = translate_to_file_string(\"../../data/HRDataset_v14.csv\")"
   ]
  },
  {
   "cell_type": "code",
   "execution_count": null,
   "metadata": {},
   "outputs": [],
   "source": [
    "spark = (SparkSession\n",
    "       .builder\n",
    "       .appName(\"HumanResources\")\n",
    "       .getOrCreate())\n",
    "spark.sql(\"set spark.sql.legacy.timeParserPolicy=LEGACY\")"
   ]
  },
  {
   "cell_type": "code",
   "execution_count": null,
   "metadata": {},
   "outputs": [],
   "source": [
    "# load data file.\n",
    "# create a DataFrame using an infered Schema\n",
    "df = spark.read.option(\"header\", \"true\") \\\n",
    "    .option(\"inferSchema\", \"true\") \\\n",
    "    .option(\"delimiter\", \",\") \\\n",
    "    .csv(input_file) \n",
    "df.printSchema()"
   ]
  },
  {
   "cell_type": "markdown",
   "metadata": {},
   "source": [
    "## Data Preprocessing"
   ]
  },
  {
   "cell_type": "code",
   "execution_count": null,
   "metadata": {},
   "outputs": [],
   "source": [
    "# Fill null values\n",
    "df = df.na.fill( {'TermReason': 'Unknown', 'ManagerID': 0, 'DaysLateLast30': 0, 'DateofTermination': '1/01/2022', 'LastPerformanceReview_Date': '1/01/2022'} )\n",
    "\n",
    "# Converte date-strings to dates\n",
    "df = df.withColumn('DateofHire', unix_timestamp(col('DateofHire'), 'M/dd/yyyy'))\n",
    "df = df.withColumn('DateofTermination', unix_timestamp(col('DateofTermination'), 'M/dd/yyyy'))\n",
    "\n",
    "# Add new column for days worked in company\n",
    "df = df.withColumn(\"DaysWorked\", ((col(\"DateofTermination\") - col(\"DateofHire\"))/86400))\n"
   ]
  },
  {
   "cell_type": "markdown",
   "metadata": {},
   "source": [
    "## Indexing string columns "
   ]
  },
  {
   "cell_type": "code",
   "execution_count": null,
   "metadata": {},
   "outputs": [],
   "source": [
    "stateIdIndexer = StringIndexer().setInputCol(\"State\").setOutputCol(\"State-num\").fit(df)\n",
    "sexIndexer = StringIndexer().setInputCol(\"Sex\").setOutputCol(\"Sex-num\").fit(df)\n",
    "recruitSourceIndexer = StringIndexer().setInputCol(\"RecruitmentSource\").setOutputCol(\"RecruitmentSource-num\").fit(df)"
   ]
  },
  {
   "cell_type": "markdown",
   "metadata": {},
   "source": [
    "# Removing Feature Columns #\n",
    "Used to simplify the process."
   ]
  },
  {
   "cell_type": "code",
   "execution_count": null,
   "metadata": {},
   "outputs": [],
   "source": [
    "# labels are Termd, EmpStatusID, Salary\n",
    "\n",
    "featureCols = ['MarriedID', 'MaritalStatusID', 'DeptID', 'PerfScoreID', 'FromDiversityJobFairID', 'SpecialProjectsCount', 'State-num', 'Sex-num','RecruitmentSource-num','EngagementSurvey','EmpSatisfaction', 'Absences']\n",
    "featureCols.append(\"DaysWorked\")\n",
    "print (featureCols)"
   ]
  },
  {
   "cell_type": "code",
   "execution_count": null,
   "metadata": {},
   "outputs": [],
   "source": [
    "assembler =  VectorAssembler(outputCol=\"features\", inputCols=list(featureCols), handleInvalid='skip')"
   ]
  },
  {
   "cell_type": "code",
   "execution_count": null,
   "metadata": {},
   "outputs": [],
   "source": [
    "labeled_point_ds = assembler.transform(recruitSourceIndexer.transform(sexIndexer.transform(stateIdIndexer.transform(df))))\n",
    "print_df(labeled_point_ds,10)"
   ]
  },
  {
   "cell_type": "code",
   "execution_count": null,
   "metadata": {},
   "outputs": [],
   "source": [
    "#split data for testing\n",
    "splits = labeled_point_ds.randomSplit([0.6, 0.4 ], 5756)\n",
    "train = splits[0]\n",
    "test = splits[1]"
   ]
  },
  {
   "cell_type": "code",
   "execution_count": null,
   "metadata": {},
   "outputs": [],
   "source": [
    "spark.stop()"
   ]
  }
 ],
 "metadata": {
  "kernelspec": {
   "display_name": "venv",
   "language": "python",
   "name": "python3"
  },
  "language_info": {
   "codemirror_mode": {
    "name": "ipython",
    "version": 3
   },
   "file_extension": ".py",
   "mimetype": "text/x-python",
   "name": "python",
   "nbconvert_exporter": "python",
   "pygments_lexer": "ipython3",
   "version": "3.11.9"
  }
 },
 "nbformat": 4,
 "nbformat_minor": 4
}
