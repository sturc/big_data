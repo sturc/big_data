{
 "cells": [
  {
   "cell_type": "markdown",
   "metadata": {},
   "source": [
    "# Mushroom Dataset \n",
    "\n",
    "Description and data can be found here <https://archive.ics.uci.edu/ml/datasets/mushroom>. "
   ]
  },
  {
   "cell_type": "code",
   "execution_count": null,
   "metadata": {},
   "outputs": [],
   "source": [
    "import sys\n",
    "sys.path.append(\"..\")\n",
    "from pyspark.ml.feature import StringIndexer, VectorAssembler\n",
    "from pyspark.sql.functions import expr\n",
    "from pyspark.sql.session import SparkSession\n",
    "from helpers.path_translation import translate_to_file_string\n",
    "from helpers.data_prep_and_print import print_df"
   ]
  },
  {
   "cell_type": "code",
   "execution_count": null,
   "metadata": {},
   "outputs": [],
   "source": [
    "input_file = translate_to_file_string(\"../../data/mushrooms.csv\")"
   ]
  },
  {
   "cell_type": "code",
   "execution_count": null,
   "metadata": {},
   "outputs": [],
   "source": [
    "spark = (SparkSession\n",
    "       .builder\n",
    "       .master(\"local[*]\")\n",
    "       .appName(\"Mushroom Data Preparation\")\n",
    "       .getOrCreate())"
   ]
  },
  {
   "cell_type": "code",
   "execution_count": null,
   "metadata": {},
   "outputs": [],
   "source": [
    "df = spark.read.option(\"header\", \"true\") \\\n",
    "       .option(\"inferSchema\", \"true\") \\\n",
    "       .option(\"delimiter\", \",\") \\\n",
    "       .csv(input_file)\n",
    "df.printSchema()"
   ]
  },
  {
   "cell_type": "markdown",
   "metadata": {},
   "source": [
    "# String- Werte in numerische Werte umwandeln"
   ]
  },
  {
   "cell_type": "code",
   "execution_count": null,
   "metadata": {},
   "outputs": [],
   "source": [
    "labelIndexer        = StringIndexer().setInputCol(\"class\").setOutputCol(\"label\").fit(df)\n",
    "cap_shapeIndexer    = StringIndexer().setInputCol(\"cap-shape\").setOutputCol(\"cap_shapeNUM\").fit(df)\n",
    "cap_surfaceIndexer  = StringIndexer().setInputCol(\"cap-surface\").setOutputCol(\"cap_surfaceNUM\").fit(df)\n",
    "cap_colorIndexer    = StringIndexer().setInputCol(\"cap-color\").setOutputCol(\"cap_colorNUM\").fit(df)\n",
    "bruisesIndexer      = StringIndexer().setInputCol(\"bruises\").setOutputCol(\"bruisesNUM\").fit(df)\n",
    "odorIndexer         = StringIndexer().setInputCol(\"odor\").setOutputCol(\"odorNUM\").fit(df)\n",
    "gill_attachmentIndexer  = StringIndexer().setInputCol(\"gill-attachment\").setOutputCol(\"gill_attachmentNUM\").fit(df)\n",
    "gill_spacingIndexer     = StringIndexer().setInputCol(\"gill-spacing\").setOutputCol(\"gill_spacingNUM\").fit(df)\n",
    "gill_sizeIndexer        = StringIndexer().setInputCol(\"gill-size\").setOutputCol(\"gill_sizeNUM\").fit(df)\n",
    "gill_colorIndexer       = StringIndexer().setInputCol(\"gill-color\").setOutputCol(\"gill_colorNUM\").fit(df)\n",
    "stalk_shapeIndexer      = StringIndexer().setInputCol(\"stalk-shape\").setOutputCol(\"stalk_shapeNUM\").fit(df)\n",
    "stalk_rootIndexer       = StringIndexer().setInputCol(\"stalk-root\").setOutputCol(\"stalk_rootNUM\").fit(df)\n",
    "stalk_surface_above_ringIndexer  = StringIndexer().setInputCol(\"stalk-surface-above-ring\").setOutputCol(\"stalk_surface_above_ringNUM\").fit(df)\n",
    "stalk_surface_below_ringIndexer  = StringIndexer().setInputCol(\"stalk-surface-below-ring\").setOutputCol(\"stalk_surface_below_ringNUM\").fit(df)\n",
    "stalk_color_above_ringIndexer    = StringIndexer().setInputCol(\"stalk-color-above-ring\").setOutputCol(\"stalk_color_above_ringNUM\").fit(df)\n",
    "stalk_color_below_ringIndexer    = StringIndexer().setInputCol(\"stalk-color-below-ring\").setOutputCol(\"stalk_color_below_ringNUM\").fit(df)\n",
    "veil_typeIndexer            = StringIndexer().setInputCol(\"veil-type\").setOutputCol(\"veil_typeNUM\").fit(df)\n",
    "veil_colorIndexer           = StringIndexer().setInputCol(\"veil-color\").setOutputCol(\"veil_colorNUM\").fit(df)\n",
    "ring_numberIndexer          = StringIndexer().setInputCol(\"ring-number\").setOutputCol(\"ring_numberNUM\").fit(df)\n",
    "ring_typeIndexer            = StringIndexer().setInputCol(\"ring-type\").setOutputCol(\"ring_typeNUM\").fit(df)\n",
    "spore_print_colorIndexer    = StringIndexer().setInputCol(\"spore-print-color\").setOutputCol(\"spore_print_colorNUM\").fit(df)\n",
    "populationIndexer           = StringIndexer().setInputCol(\"population\").setOutputCol(\"populationNUM\").fit(df)\n",
    "habitatIndexer              = StringIndexer().setInputCol(\"habitat\").setOutputCol(\"habitatNUM\").fit(df)"
   ]
  },
  {
   "cell_type": "markdown",
   "metadata": {},
   "source": [
    "Select only 7 features for the feature vector\n",
    "\n",
    "Label = class (eatable or poisonous)"
   ]
  },
  {
   "cell_type": "code",
   "execution_count": null,
   "metadata": {},
   "outputs": [],
   "source": [
    "featureCols = ['odorNUM', 'gill_sizeNUM', 'gill_colorNUM', 'stalk_rootNUM', 'ring_typeNUM', 'spore_print_colorNUM', 'populationNUM']\n",
    "print(featureCols)"
   ]
  },
  {
   "cell_type": "code",
   "execution_count": null,
   "metadata": {},
   "outputs": [],
   "source": [
    "labeled_data_num = cap_shapeIndexer.transform(\n",
    "                    cap_surfaceIndexer.transform(\n",
    "                    cap_colorIndexer.transform(\n",
    "                    bruisesIndexer.transform(\n",
    "                    odorIndexer.transform(\n",
    "                    gill_attachmentIndexer.transform(\n",
    "                    gill_spacingIndexer.transform(\n",
    "                    gill_sizeIndexer.transform(\n",
    "                    gill_colorIndexer.transform(\n",
    "                    stalk_shapeIndexer.transform(\n",
    "                    stalk_rootIndexer.transform(\n",
    "                    stalk_surface_above_ringIndexer.transform(\n",
    "                    stalk_surface_below_ringIndexer.transform(\n",
    "                    stalk_color_above_ringIndexer.transform(\n",
    "                    stalk_color_below_ringIndexer.transform(\n",
    "                    veil_colorIndexer.transform(\n",
    "                    veil_typeIndexer.transform(\n",
    "                    ring_numberIndexer.transform(\n",
    "                    ring_typeIndexer.transform(\n",
    "                    spore_print_colorIndexer.transform(\n",
    "                    populationIndexer.transform(\n",
    "                    habitatIndexer.transform(\n",
    "                    labelIndexer.transform(df)))))))))))))))))))))))\n",
    "assembler =  VectorAssembler(outputCol=\"features\", inputCols=featureCols)\n",
    "labeled_point_ds = assembler.transform(labeled_data_num)\n",
    "print_df(labeled_data_num,10)"
   ]
  },
  {
   "cell_type": "code",
   "execution_count": null,
   "metadata": {},
   "outputs": [],
   "source": [
    "splits = labeled_point_ds.randomSplit([0.9, 0.1 ], 12345)\n",
    "training = splits[0]\n",
    "test = splits[1]"
   ]
  },
  {
   "cell_type": "code",
   "execution_count": null,
   "metadata": {},
   "outputs": [],
   "source": [
    "spark.stop()"
   ]
  }
 ],
 "metadata": {
  "interpreter": {
   "hash": "ec73c5cadf0015346794d0d74e423248cca6f411372265ff4d8f97fccf290024"
  },
  "kernelspec": {
   "display_name": "venv",
   "language": "python",
   "name": "python3"
  },
  "language_info": {
   "codemirror_mode": {
    "name": "ipython",
    "version": 3
   },
   "file_extension": ".py",
   "mimetype": "text/x-python",
   "name": "python",
   "nbconvert_exporter": "python",
   "pygments_lexer": "ipython3",
   "version": "3.7.5"
  }
 },
 "nbformat": 4,
 "nbformat_minor": 2
}
