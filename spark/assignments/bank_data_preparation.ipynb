{
 "cells": [
  {
   "cell_type": "markdown",
   "metadata": {},
   "source": [
    "# Bank Dataset\n",
    "\n",
    "https://archive.ics.uci.edu/ml/datasets/bank+marketing"
   ]
  },
  {
   "cell_type": "code",
   "execution_count": null,
   "metadata": {},
   "outputs": [],
   "source": [
    "import sys\n",
    "sys.path.append(\"..\")\n",
    "from pyspark.ml.feature import StringIndexer, VectorAssembler\n",
    "from pyspark.sql.functions import col\n",
    "from pyspark.sql.types import BooleanType\n",
    "from pyspark.sql.session import SparkSession\n",
    "from helpers.path_translation import translate_to_file_string\n",
    "from helpers.data_prep_and_print import print_df"
   ]
  },
  {
   "cell_type": "code",
   "execution_count": null,
   "metadata": {},
   "outputs": [],
   "source": [
    "input_file = translate_to_file_string(\"../../data/bank.csv\")\n"
   ]
  },
  {
   "cell_type": "code",
   "execution_count": null,
   "metadata": {},
   "outputs": [],
   "source": [
    "spark = (SparkSession\n",
    "       .builder   \n",
    "       .master(\"local[*]\")\n",
    "       .appName(\"Bank DataSet SQL\")\n",
    "       .getOrCreate())"
   ]
  },
  {
   "cell_type": "code",
   "execution_count": null,
   "metadata": {},
   "outputs": [],
   "source": [
    "# load data file.\n",
    "# create a DataFrame\n",
    "df = spark.read.option(\"header\", \"true\") \\\n",
    "       .option(\"inferSchema\", \"true\") \\\n",
    "       .option(\"delimiter\", \";\") \\\n",
    "       .csv(input_file) \\\n",
    "       .withColumn(\"default\",col(\"default\").cast(BooleanType())) \\\n",
    "       .withColumn(\"housing\",col(\"housing\").cast(BooleanType())) \\\n",
    "       .withColumn(\"loan\",col(\"loan\").cast(BooleanType())) \\\n",
    "       .withColumn(\"y\",col(\"y\").cast(BooleanType()))\n",
    "df.printSchema()"
   ]
  },
  {
   "cell_type": "code",
   "execution_count": null,
   "metadata": {},
   "outputs": [],
   "source": [
    "#transform string attributes\n",
    "job_indexer = StringIndexer().setInputCol(\"job\").setOutputCol(\"job_num\").fit(df)\n",
    "marital_indexer = StringIndexer().setInputCol(\"marital\").setOutputCol(\"marital_num\").fit(df)\n",
    "education_indexer = StringIndexer().setInputCol(\"education\").setOutputCol(\"education_num\").fit(df)\n",
    "contact_indexer = StringIndexer().setInputCol(\"contact\").setOutputCol(\"contact_num\").fit(df)\n",
    "poutcome_indexer = StringIndexer().setInputCol(\"poutcome\").setOutputCol(\"poutcome_num\").fit(df)\n",
    "df = job_indexer.transform(marital_indexer.transform(\n",
    "                           education_indexer.transform(\n",
    "                           contact_indexer.transform(\n",
    "                           poutcome_indexer.transform(df)))))\n",
    "df.printSchema()"
   ]
  },
  {
   "cell_type": "code",
   "execution_count": null,
   "metadata": {},
   "outputs": [],
   "source": [
    "#feature columns\n",
    "# y = label \n",
    "featureCols = [\"age\",\"job_num\",\"marital_num\",\"education_num\",\"default\",\"balance\",\"housing\",\"loan\",\"contact_num\",\n",
    "               \"duration\",\"campaign\",\"pdays\",\"previous\",\"poutcome_num\"]\n",
    "#vector assembler of all features\n",
    "assembler =  VectorAssembler(outputCol=\"features\", inputCols=featureCols)\n",
    "\n",
    "labeled_point_ds = assembler.transform(df)\n",
    "print_df(labeled_point_ds,10)"
   ]
  },
  {
   "cell_type": "code",
   "execution_count": null,
   "metadata": {},
   "outputs": [],
   "source": [
    "#split data for testing\n",
    "splits = labeled_point_ds.randomSplit([0.6, 0.4 ], 5756)\n",
    "train = splits[0]\n",
    "test = splits[1]"
   ]
  },
  {
   "cell_type": "code",
   "execution_count": null,
   "metadata": {},
   "outputs": [],
   "source": [
    "spark.stop()"
   ]
  }
 ],
 "metadata": {
  "kernelspec": {
   "display_name": "venv",
   "language": "python",
   "name": "python3"
  },
  "language_info": {
   "codemirror_mode": {
    "name": "ipython",
    "version": 3
   },
   "file_extension": ".py",
   "mimetype": "text/x-python",
   "name": "python",
   "nbconvert_exporter": "python",
   "pygments_lexer": "ipython3",
   "version": "3.11.9"
  }
 },
 "nbformat": 4,
 "nbformat_minor": 4
}
