{
 "cells": [
  {
   "cell_type": "markdown",
   "metadata": {},
   "source": [
    "# Adult Dataset\n",
    "\n",
    "<https://archive.ics.uci.edu/dataset/2/adult>"
   ]
  },
  {
   "cell_type": "code",
   "execution_count": 45,
   "metadata": {},
   "outputs": [],
   "source": [
    "import sys\n",
    "sys.path.append(\"..\")\n",
    "from pyspark.ml.feature import StringIndexer, VectorAssembler, OneHotEncoder\n",
    "from pyspark.sql.functions import col, when, ltrim\n",
    "from pyspark.sql.types import  IntegerType, DoubleType,StringType, StructField, StructType\n",
    "from pyspark.sql.session import SparkSession\n",
    "from helpers.path_translation import translate_to_file_string\n",
    "from helpers.data_prep_and_print import print_df"
   ]
  },
  {
   "cell_type": "code",
   "execution_count": 46,
   "metadata": {},
   "outputs": [],
   "source": [
    "input_file = translate_to_file_string(\"../../data/adult.data\")"
   ]
  },
  {
   "cell_type": "code",
   "execution_count": 47,
   "metadata": {},
   "outputs": [],
   "source": [
    "spark = (SparkSession\n",
    "       .builder   \n",
    "       .master(\"local[*]\")\n",
    "       .appName(\"Adult DataSet\")\n",
    "       .getOrCreate())"
   ]
  },
  {
   "cell_type": "code",
   "execution_count": 48,
   "metadata": {},
   "outputs": [],
   "source": [
    "adultSchema = StructType([ \\\n",
    "    StructField(\"age\",IntegerType(),nullable=False), \\\n",
    "    StructField(\"workclass\",StringType(),nullable=True), \\\n",
    "    StructField(\"fnlwgt\",DoubleType(),nullable=False), \\\n",
    "    StructField(\"education\", StringType(), nullable=False), \\\n",
    "    StructField(\"education-num\", DoubleType(), False), \\\n",
    "    StructField(\"marital-status\", StringType(), False), \\\n",
    "    StructField(\"occupation\", StringType(), True), \\\n",
    "    StructField(\"relationship\", StringType(), False),  \\\n",
    "    StructField(\"race\", StringType(), False),  \\\n",
    "    StructField(\"sex\", StringType(), False),  \\\n",
    "    StructField(\"capital-gain\", DoubleType(), False),  \\\n",
    "    StructField(\"capital-loss\", DoubleType(), False),  \\\n",
    "    StructField(\"hours-per-week\", DoubleType(), False),  \\\n",
    "    StructField(\"native-country\", StringType(), False),  \\\n",
    "    StructField(\"income\", StringType(), False)])"
   ]
  },
  {
   "cell_type": "code",
   "execution_count": null,
   "metadata": {},
   "outputs": [],
   "source": [
    "# load data file.\n",
    "# create a DataFrame\n",
    "df = spark.read.option(\"header\", \"false\") \\\n",
    "       .option(\"inferSchema\",\"false\")\\\n",
    "       .schema(adultSchema) \\\n",
    "       .option(\"delimiter\", \",\") \\\n",
    "       .csv(input_file) \\\n",
    "       .withColumn(\"label\",col(\"income\")== \"<=50\") \\\n",
    "       .withColumn(\"workclass\",when (col(\"workclass\") == \" ?\", None).otherwise(ltrim(col(\"workclass\"))))\\\n",
    "       .withColumn(\"sex\",when(col(\"sex\")==\" Male\", False).when(col(\"sex\")==\" Female\",True).otherwise(None)) \n",
    "df.printSchema()\n"
   ]
  },
  {
   "cell_type": "markdown",
   "metadata": {},
   "source": [
    "### Remove null values"
   ]
  },
  {
   "cell_type": "code",
   "execution_count": null,
   "metadata": {},
   "outputs": [],
   "source": [
    "df_without_null= df.dropna()\n",
    "print(\"# \"+ str(df.count() - df_without_null.count())+ \" Rows deleted\")"
   ]
  },
  {
   "cell_type": "markdown",
   "metadata": {},
   "source": [
    "### Transform string attributes"
   ]
  },
  {
   "cell_type": "code",
   "execution_count": null,
   "metadata": {},
   "outputs": [],
   "source": [
    "# Build StringIndexer\n",
    "workclass_indexer = StringIndexer().setInputCol(\"workclass\").setOutputCol(\"workclass-num\").fit(df_without_null)\n",
    "marital_indexer = StringIndexer().setInputCol(\"marital-status\").setOutputCol(\"marital-status-num\").fit(df_without_null)\n",
    "occupation_indexer = StringIndexer().setInputCol(\"occupation\").setOutputCol(\"occupation-num\").fit(df_without_null)\n",
    "relationship_indexer = StringIndexer().setInputCol(\"relationship\").setOutputCol(\"relationship-num\").fit(df_without_null)\n",
    "race_indexer = StringIndexer().setInputCol(\"race\").setOutputCol(\"race-num\").fit(df_without_null)\n",
    "country_indexer = StringIndexer().setInputCol(\"native-country\").setOutputCol(\"native-country-num\").fit(df_without_null)\n",
    "df_indexed =  country_indexer.transform(\n",
    "                race_indexer.transform(\n",
    "                relationship_indexer.transform(\n",
    "                occupation_indexer.transform(\n",
    "                marital_indexer.transform(\n",
    "                workclass_indexer.transform(df_without_null))))))\n",
    "# Build one hot encoding\n",
    "onehot_encoder = OneHotEncoder(inputCols=[\"workclass-num\",\"marital-status-num\",\"occupation-num\",\"relationship-num\",\"race-num\",\"native-country-num\"], \n",
    "              outputCols=[\"workclass-ohe\",\"marital-status-ohe\",\"occupation-ohe\",\"relationship-ohe\",\"race-ohe\",\"native-country-ohe\"]).fit(df_indexed)\n",
    "df_encoded = onehot_encoder.transform(df_indexed)\n",
    "print_df(df_encoded, 5)"
   ]
  },
  {
   "cell_type": "code",
   "execution_count": null,
   "metadata": {},
   "outputs": [],
   "source": [
    "#feature columns\n",
    "feature_cols = [\"age\",\"workclass-ohe\",\"education-num\",\"marital-status-ohe\",\"occupation-ohe\",\n",
    "               \"relationship-ohe\",\"race-ohe\",\"sex\",\"capital-gain\",\"capital-loss\",\"hours-per-week\",\n",
    "               \"native-country-ohe\"]\n",
    "\n",
    "#vector assembler of all features\n",
    "assembler =  VectorAssembler(outputCol=\"features\", inputCols=feature_cols)\n",
    "\n",
    "labeled_point_ds = assembler.transform(df_encoded)\n",
    "print_df(labeled_point_ds,5)"
   ]
  },
  {
   "cell_type": "code",
   "execution_count": 53,
   "metadata": {},
   "outputs": [],
   "source": [
    "#split data for testing\n",
    "splits = labeled_point_ds.randomSplit([0.6, 0.4 ], 5756)\n",
    "train = splits[0]\n",
    "test = splits[1]"
   ]
  },
  {
   "cell_type": "code",
   "execution_count": 54,
   "metadata": {},
   "outputs": [],
   "source": [
    "spark.stop()"
   ]
  }
 ],
 "metadata": {
  "kernelspec": {
   "display_name": "venv",
   "language": "python",
   "name": "python3"
  },
  "language_info": {
   "codemirror_mode": {
    "name": "ipython",
    "version": 3
   },
   "file_extension": ".py",
   "mimetype": "text/x-python",
   "name": "python",
   "nbconvert_exporter": "python",
   "pygments_lexer": "ipython3",
   "version": "3.11.9"
  }
 },
 "nbformat": 4,
 "nbformat_minor": 4
}
