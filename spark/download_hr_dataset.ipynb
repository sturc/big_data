{
 "cells": [
  {
   "cell_type": "code",
   "execution_count": 1,
   "metadata": {},
   "outputs": [
    {
     "data": {
      "text/plain": [
       "('../data/HRDataset_v14_test.csv', <http.client.HTTPMessage at 0x10a3bf190>)"
      ]
     },
     "execution_count": 1,
     "metadata": {},
     "output_type": "execute_result"
    }
   ],
   "source": [
    "import urllib.request\n",
    "\n",
    "url='https://dl.dropboxusercontent.com/s/0kg2drd90cpty9n/HRDataset_v14.csv?dl=1'\n",
    "\n",
    "urllib.request.urlretrieve(url, \"../data/HRDataset_v14.csv\")"
   ]
  }
 ],
 "metadata": {
  "kernelspec": {
   "display_name": "venv",
   "language": "python",
   "name": "python3"
  },
  "language_info": {
   "codemirror_mode": {
    "name": "ipython",
    "version": 3
   },
   "file_extension": ".py",
   "mimetype": "text/x-python",
   "name": "python",
   "nbconvert_exporter": "python",
   "pygments_lexer": "ipython3",
   "version": "3.10.4"
  },
  "orig_nbformat": 4,
  "vscode": {
   "interpreter": {
    "hash": "ec73c5cadf0015346794d0d74e423248cca6f411372265ff4d8f97fccf290024"
   }
  }
 },
 "nbformat": 4,
 "nbformat_minor": 2
}
