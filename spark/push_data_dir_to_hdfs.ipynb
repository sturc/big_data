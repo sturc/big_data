{
 "cells": [
  {
   "cell_type": "markdown",
   "metadata": {},
   "source": [
    "# Copy the content of the data directory to the hdfs cluster"
   ]
  },
  {
   "cell_type": "code",
   "execution_count": null,
   "metadata": {},
   "outputs": [],
   "source": [
    "from os import listdir\n",
    "from os.path import isfile, join\n",
    "from hdfs import InsecureClient"
   ]
  },
  {
   "cell_type": "code",
   "execution_count": null,
   "metadata": {},
   "outputs": [],
   "source": [
    "client = InsecureClient('http://192.168.11.2:9870', user='root')\n",
    "client.makedirs(\"/data\", permission=755)\n",
    "client.makedirs(\"/tmp\", permission=777)\n",
    "client.makedirs(\"/app\", permission=777)\n",
    "client.makedirs(\"/result\", permission=777)"
   ]
  },
  {
   "cell_type": "code",
   "execution_count": null,
   "metadata": {},
   "outputs": [],
   "source": [
    "client.list(\"/\", status=False)"
   ]
  },
  {
   "cell_type": "code",
   "execution_count": null,
   "metadata": {},
   "outputs": [],
   "source": [
    "datadir = \"../data/\"\n",
    "allfiles = [f for f in listdir(datadir) if isfile(join(datadir, f))]\n",
    "datafiles = list(filter(lambda x: x[0]!= \".\", allfiles))\n",
    "for file in datafiles:\n",
    "    print(f\"processing file {file}\")\n",
    "    client.upload(f\"/data/{file}\", f\"../data/{file}\", n_threads=1, temp_dir=\"/tmp\", chunk_size=65536, progress=None, cleanup=True, overwrite=True)"
   ]
  }
 ],
 "metadata": {
  "kernelspec": {
   "display_name": "Python 3",
   "language": "python",
   "name": "python3"
  },
  "language_info": {
   "codemirror_mode": {
    "name": "ipython",
    "version": 3
   },
   "file_extension": ".py",
   "mimetype": "text/x-python",
   "name": "python",
   "nbconvert_exporter": "python",
   "pygments_lexer": "ipython3",
   "version": "3.8.8"
  }
 },
 "nbformat": 4,
 "nbformat_minor": 4
}
