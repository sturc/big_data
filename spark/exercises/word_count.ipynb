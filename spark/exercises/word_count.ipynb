{
 "cells": [
  {
   "cell_type": "markdown",
   "metadata": {},
   "source": [
    "# WordCount"
   ]
  },
  {
   "cell_type": "code",
   "execution_count": 1,
   "metadata": {},
   "outputs": [],
   "source": [
    "import sys\n",
    "sys.path.append(\"..\")\n",
    "from helpers.path_translation import translate_to_file_string\n",
    "from pyspark.sql import SparkSession"
   ]
  },
  {
   "cell_type": "code",
   "execution_count": 2,
   "metadata": {},
   "outputs": [],
   "source": [
    "input_file = translate_to_file_string(\"../../data/ghEmployees.txt\")"
   ]
  },
  {
   "cell_type": "code",
   "execution_count": 3,
   "metadata": {},
   "outputs": [],
   "source": [
    "#create a SparkSession \n",
    "spark = (SparkSession\n",
    "       .builder \n",
    "       .master(\"local[2]\") \n",
    "       .appName(\"WordCount\")\n",
    "       .getOrCreate())\n",
    "# read file \n",
    "spark.sparkContext.setLogLevel(\"ERROR\")\n",
    "input = spark.sparkContext.textFile(input_file)\n",
    "counts = input.flatMap(lambda line : line.split(\" \")).map(lambda word : [word, 1]).reduceByKey(lambda a, b : a + b)"
   ]
  },
  {
   "cell_type": "code",
   "execution_count": 4,
   "metadata": {},
   "outputs": [
    {
     "name": "stdout",
     "output_type": "stream",
     "text": [
      "[('aclindsa', 1), ('ahsojar', 1), ('Akkyie', 1), ('albertn198', 1), ('alexanderdidenko', 1), ('allelos', 1), ('aprilx2222', 1), ('aquira246', 1), ('avilunin', 1), ('barnardn', 1), ('BatMiles', 1), ('battlesnake', 1), ('bdiegel', 1), ('bmcfluff', 1), ('ChroniXEcho', 1), ('craigem', 1), ('danielrasmuson', 1), ('dayanyrec', 1), ('dcsan', 1), ('dhirajbodicherla', 1), ('digedez', 1), ('dinoboff', 1), ('DomT4', 1), ('eduardobritosan', 1), ('evelynluu', 1), ('flogo1982', 1), ('fragale', 1), ('gkiar', 1), ('gkop', 1), ('grantgalitz', 1), ('greggman', 1), ('gwalker91', 1), ('hata69', 1), ('hujihong', 1), ('ims21', 1), ('IrinaDmt', 1), ('ivanyukio', 1), ('jaanos', 1), ('jacorral', 1), ('jaehyeon-kim', 1), ('jclaw', 1), ('jeff1evesque', 1), ('jeremymoritz', 1), ('jessiel', 1), ('jfelchner', 1), ('jmarkkula', 1), ('jordanekay', 1), ('jplahn', 1), ('jpmal95', 1), ('jtrang', 1), ('Juxnist', 1), ('KenanSulayman', 1), ('keum', 1), ('larperdoodle', 1), ('leafo', 1), ('ledomone', 1), ('LeendersR', 1), ('liangyali', 1), ('lightZebra', 1), ('macbookandrew', 1), ('manuelrp07', 1), ('martagalaz', 1), ('MichaelCTH', 1), ('michaelfester', 1), ('michaelpcorreale', 1), ('mitchcapper', 1), ('NathanNg', 1), ('nax3t', 1), ('noahvanes', 1), ('nztim', 1), ('octoberapp', 1), ('p3lim', 1), ('paulherman', 1), ('pquinter', 1), ('Pykee', 1), ('qeremy', 1), ('rabernal', 1), ('Ramzawulf', 1), ('razzel', 1), ('rmuhamedgaliev', 1), ('robertzk', 1), ('RuiqingQiu', 1), ('samnazarko', 1), ('sarita89', 1), ('sdaschner', 1), ('skittles1', 1), ('sloria', 1), ('Somasis', 1), ('stephaniejn', 1), ('StuntsPT', 1), ('summersd', 1), ('tessercat', 1), ('TheRingMaster', 1), ('Tookmund', 1), ('twillis', 1), ('txchen', 1), ('tywins', 1), ('vadik49b', 1), ('Valicek1', 1), ('wboswall', 1), ('whh8b', 1), ('williamFalcon', 1), ('wjkhoops', 1), ('xaque208', 1), ('yuansl', 1), ('zjt1114', 1), ('ZombieHippie', 1), ('adamschwartz', 1), ('AiMadobe', 1), ('andy-armstrong', 1), ('aried3r', 1), ('Battleroid', 1), ('bcherny', 1), ('BhawanVirk', 1), ('bitemyapp', 1), ('BitKiwi', 1), ('bjaiyen', 1), ('chapuni', 1), ('cptmashek', 1), ('danieltcv', 1), ('digipl', 1), ('direwolf-github', 1), ('dpyryesk', 1), ('e3bo', 1), ('eckardjf', 1), ('edmundito', 1), ('elhaddad1', 1), ('EmanueleMinotto', 1), ('eventuserum', 1), ('frsyuki', 1), ('fbennett', 1), ('gdavendanor', 1), ('geowarin', 1), ('gerhuyy', 1), ('Gix075', 1), ('gmaclennan', 1), ('GroovyCarrot', 1), ('gvincenzi', 1), ('Halexsson', 1), ('hansliu', 1), ('hwen3', 1), ('iheo', 1), ('insomniapplabs', 1), ('IsaacAU', 1), ('janovas', 1), ('jbernie2', 1), ('jcrawfordor', 1), ('jeffreykegler', 1), ('jinmingmu', 1), ('jmal0', 1), ('johnrnelson', 1), ('jschnurrer', 1), ('JustScience', 1), ('jvodan', 1), ('kriskd', 1), ('kungfuboy', 1), ('kWhittington', 1), ('lawrenceevalyn', 1), ('likenny9', 1), ('listingslab', 1), ('Lithium64', 1), ('localheinz', 1), ('louy', 1), ('lukeis', 1), ('lukke100', 1), ('m1771vw', 1), ('mahnve', 1), ('makjona', 1), ('marciojv', 1), ('maroz', 1), ('matthiasgasser', 1), ('mc-suchecki', 1), ('mfonken', 1), ('mikebronner', 1), ('mikegazdag', 1), ('mlin', 1), ('muonide', 1), ('nesteves', 1), ('peschuster', 1), ('petergreeen', 1), ('pklopping', 1), ('ptudor', 1), ('randheerDas', 1), ('ravivcohen', 1), ('rbardini', 1), ('Reddraft', 1), ('ricardocastaneda', 1), ('robertcboll', 1), ('rosay', 1), ('russomi', 1), ('rwstream9', 1), ('serranoarevalo', 1), ('shryme', 1), ('soluml', 1), ('sophiataskova', 1), ('tatums', 1), ('tekd', 1), ('thomas-forte', 1), ('tnunn2', 1), ('ToluOlayinka', 1), ('uqs', 1), ('vkostyukov', 1), ('vsingleton', 1), ('WhiteHalmos', 1), ('xrav3nz', 1), ('y-yagi', 1), ('zhixinwen', 1)]\n"
     ]
    }
   ],
   "source": [
    "print(counts.collect())"
   ]
  },
  {
   "cell_type": "code",
   "execution_count": 5,
   "metadata": {},
   "outputs": [],
   "source": [
    "spark.stop()"
   ]
  }
 ],
 "metadata": {
  "kernelspec": {
   "display_name": "Python 3",
   "language": "python",
   "name": "python3"
  },
  "language_info": {
   "codemirror_mode": {
    "name": "ipython",
    "version": 3
   },
   "file_extension": ".py",
   "mimetype": "text/x-python",
   "name": "python",
   "nbconvert_exporter": "python",
   "pygments_lexer": "ipython3",
   "version": "3.8.8"
  }
 },
 "nbformat": 4,
 "nbformat_minor": 4
}
