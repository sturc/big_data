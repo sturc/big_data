{
 "cells": [
  {
   "cell_type": "code",
   "execution_count": null,
   "metadata": {},
   "outputs": [],
   "source": [
    "import urllib.request\n",
    "\n",
    "url='https://www.dropbox.com/scl/fi/vv8aj2j88b3mf6r3zkkv0/paper_helicopter_data.csv?rlkey=zyza95j8k8od79o4adx4guetz&dl=1'\n",
    "\n",
    "urllib.request.urlretrieve(url, \"../data/paper_helicopter_data.csv\")"
   ]
  }
 ],
 "metadata": {
  "kernelspec": {
   "display_name": "venv",
   "language": "python",
   "name": "python3"
  },
  "language_info": {
   "codemirror_mode": {
    "name": "ipython",
    "version": 3
   },
   "file_extension": ".py",
   "mimetype": "text/x-python",
   "name": "python",
   "nbconvert_exporter": "python",
   "pygments_lexer": "ipython3",
   "version": "3.10.4"
  },
  "orig_nbformat": 4,
  "vscode": {
   "interpreter": {
    "hash": "ec73c5cadf0015346794d0d74e423248cca6f411372265ff4d8f97fccf290024"
   }
  }
 },
 "nbformat": 4,
 "nbformat_minor": 2
}
